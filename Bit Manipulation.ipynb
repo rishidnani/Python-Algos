{
 "cells": [
  {
   "cell_type": "code",
   "execution_count": 2,
   "metadata": {},
   "outputs": [],
   "source": [
    "##Count the set bits in a number \n",
    "## https://brilliant.org/wiki/bit-manipulation-hacks/#count-the-number-of-set-bits\n",
    "\n",
    "def CountSetBit(x):\n",
    "    bits = 0\n",
    "    while x:\n",
    "        bits += 1\n",
    "        x = x & x - 1\n",
    "    return bits"
   ]
  },
  {
   "cell_type": "code",
   "execution_count": 3,
   "metadata": {},
   "outputs": [
    {
     "data": {
      "text/plain": [
       "4"
      ]
     },
     "execution_count": 3,
     "metadata": {},
     "output_type": "execute_result"
    }
   ],
   "source": [
    "CountSetBit(85)"
   ]
  },
  {
   "cell_type": "code",
   "execution_count": null,
   "metadata": {},
   "outputs": [],
   "source": [
    "## Important tricks https://www.geeksforgeeks.org/bitwise-operators-in-c-cpp/"
   ]
  },
  {
   "cell_type": "code",
   "execution_count": 4,
   "metadata": {},
   "outputs": [
    {
     "name": "stdout",
     "output_type": "stream",
     "text": [
      "9\n",
      "3\n",
      "10\n"
     ]
    }
   ],
   "source": [
    "#Bit manipulation to swaop 2 numbers :\n",
    "\n",
    "a, b = 10, 3\n",
    "a = a ^ b\n",
    "print(a)\n",
    "b = b ^ a\n",
    "a = a ^ b\n",
    "print(a)\n",
    "print(b)"
   ]
  },
  {
   "cell_type": "code",
   "execution_count": 24,
   "metadata": {},
   "outputs": [],
   "source": [
    "#Check if the number is a power of 4\n",
    "\n",
    "def IsPowerofFour(a):\n",
    "\n",
    "    if a > 0 and (a & (a - 1) == 0):  #This conidtion checks if the number is alteast a power of 2\n",
    "        #a power of 4 will have set bits on even powers of 2 eg: 2^2 , 2^4 , 2^6.. they are all powers of 4\n",
    "        while a > 1:\n",
    "            a = a >> 2 #keep Shifting the set bit by 2 till it reaches 1\n",
    "        if a == 1:\n",
    "            return True\n",
    "    return False"
   ]
  },
  {
   "cell_type": "code",
   "execution_count": 28,
   "metadata": {},
   "outputs": [
    {
     "name": "stdout",
     "output_type": "stream",
     "text": [
      "Power of 4\n"
     ]
    },
    {
     "data": {
      "text/plain": [
       "True"
      ]
     },
     "execution_count": 28,
     "metadata": {},
     "output_type": "execute_result"
    }
   ],
   "source": [
    "IsPowerofFour(64)"
   ]
  },
  {
   "cell_type": "code",
   "execution_count": null,
   "metadata": {},
   "outputs": [],
   "source": []
  }
 ],
 "metadata": {
  "kernelspec": {
   "display_name": "Python 3",
   "language": "python",
   "name": "python3"
  },
  "language_info": {
   "codemirror_mode": {
    "name": "ipython",
    "version": 3
   },
   "file_extension": ".py",
   "mimetype": "text/x-python",
   "name": "python",
   "nbconvert_exporter": "python",
   "pygments_lexer": "ipython3",
   "version": "3.7.1"
  }
 },
 "nbformat": 4,
 "nbformat_minor": 2
}
